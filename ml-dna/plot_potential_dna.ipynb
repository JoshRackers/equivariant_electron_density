{
 "cells": [
  {
   "cell_type": "code",
   "execution_count": 1,
   "metadata": {},
   "outputs": [
    {
     "name": "stdout",
     "output_type": "stream",
     "text": [
      "['/home/alee/bdna/ml-dna-gitupload/potential', '/home/alee/anaconda3/envs/e3nn_psi4/lib/python37.zip', '/home/alee/anaconda3/envs/e3nn_psi4/lib/python3.7', '/home/alee/anaconda3/envs/e3nn_psi4/lib/python3.7/lib-dynload', '', '/home/alee/anaconda3/envs/e3nn_psi4/lib/python3.7/site-packages', '/home/alee/anaconda3/envs/e3nn_psi4/lib/python3.7/site-packages/IPython/extensions', '/home/alee/.ipython', '/home/alee/psi4_mod/build/stage/lib']\n",
      "cuda\n"
     ]
    }
   ],
   "source": [
    "%load_ext autoreload\n",
    "%autoreload 2\n",
    "\n",
    "import sys\n",
    "if \"/home/alee/psi4_mod/build/stage/lib\" not in sys.path:\n",
    "    sys.path.append(\"/home/alee/psi4_mod/build/stage/lib\")\n",
    "    print(sys.path)\n",
    "import psi4\n",
    "\n",
    "import math\n",
    "import numpy as np\n",
    "\n",
    "import torch\n",
    "import torch_geometric\n",
    "\n",
    "from utils import get_iso_permuted_dataset\n",
    "from utils import flatten_list\n",
    "\n",
    "device = torch.device(\"cuda\" if torch.cuda.is_available() else \"cpu\")\n",
    "#device = torch.device(\"cpu\")\n",
    "print (device)\n",
    "\n",
    "torch.set_default_dtype(torch.float32)"
   ]
  },
  {
   "cell_type": "code",
   "execution_count": 5,
   "metadata": {},
   "outputs": [],
   "source": [
    "# first, get dataset\n",
    "\n",
    "hhh = \"h_s_only_augccpvdz_density.out\"\n",
    "ooo = \"o_s_only_augccpvdz_density.out\"\n",
    "ccc = \"c_s_only_augccpvdz_density.out\"\n",
    "nnn = \"n_s_only_augccpvdz_density.out\"\n",
    "ppp = \"p_s_only_augccpvdz_density.out\"\n",
    "\n",
    "test_datafile = \"2mer-test.pkl\"\n",
    "test_dataset = get_iso_permuted_dataset(test_datafile,h_iso=hhh,c_iso=ccc,n_iso=nnn,o_iso=ooo,p_iso=ppp)\n",
    "\n",
    "b = 1\n",
    "\n",
    "test_loader = torch_geometric.data.DataLoader(test_dataset, batch_size=b, shuffle=False)\n"
   ]
  },
  {
   "cell_type": "code",
   "execution_count": 3,
   "metadata": {},
   "outputs": [
    {
     "data": {
      "text/plain": [
       "Network(\n",
       "  (layers): ModuleList(\n",
       "    (0): Compose(\n",
       "      (first): Convolution(\n",
       "        (sc): FullyConnectedTensorProduct(5x0e x 1x0e -> 336x0e+67x1o+40x2e+29x3o | 1680 paths | 1680 weights)\n",
       "        (lin1): FullyConnectedTensorProduct(5x0e x 1x0e -> 5x0e | 25 paths | 25 weights)\n",
       "        (fc): FullyConnectedNet[10, 128, 20]\n",
       "        (tp): TensorProduct(5x0e x 1x0e+1x1o+1x2e+1x3o -> 5x0e+5x1o+5x2e+5x3o | 20 paths | 20 weights)\n",
       "        (lin2): FullyConnectedTensorProduct(5x0e+5x1o+5x2e+5x3o x 1x0e -> 336x0e+67x1o+40x2e+29x3o | 2360 paths | 2360 weights)\n",
       "      )\n",
       "      (second): Gate (336x0e+67x1o+40x2e+29x3o -> 200x0e+67x1o+40x2e+29x3o)\n",
       "    )\n",
       "    (1): Compose(\n",
       "      (first): Convolution(\n",
       "        (sc): FullyConnectedTensorProduct(200x0e+67x1o+40x2e+29x3o x 1x0e -> 472x0e+67x1o+67x1e+40x2o+40x2e+29x3o+29x3e | 101330 paths | 101330 weights)\n",
       "        (lin1): FullyConnectedTensorProduct(200x0e+67x1o+40x2e+29x3o x 1x0e -> 200x0e+67x1o+40x2e+29x3o | 46930 paths | 46930 weights)\n",
       "        (fc): FullyConnectedNet[10, 128, 2133]\n",
       "        (tp): TensorProduct(200x0e+67x1o+40x2e+29x3o x 1x0e+1x1o+1x2e+1x3o -> 336x0e+443x1o+136x1e+176x2o+472x2e+405x3o+165x3e | 2133 paths | 2133 weights)\n",
       "        (lin2): FullyConnectedTensorProduct(336x0e+443x1o+136x1e+176x2o+472x2e+405x3o+165x3e x 1x0e -> 472x0e+67x1o+67x1e+40x2o+40x2e+29x3o+29x3e | 239835 paths | 239835 weights)\n",
       "      )\n",
       "      (second): Gate (472x0e+67x1o+67x1e+40x2o+40x2e+29x3o+29x3e -> 200x0e+67x1o+67x1e+40x2o+40x2e+29x3o+29x3e)\n",
       "    )\n",
       "    (2): Compose(\n",
       "      (first): Convolution(\n",
       "        (sc): FullyConnectedTensorProduct(200x0e+67x1o+67x1e+40x2o+40x2e+29x3o+29x3e x 1x0e -> 200x0o+472x0e+67x1o+67x1e+40x2o+40x2e+29x3o+29x3e | 108260 paths | 108260 weights)\n",
       "        (lin1): FullyConnectedTensorProduct(200x0e+67x1o+67x1e+40x2o+40x2e+29x3o+29x3e x 1x0e -> 200x0e+67x1o+67x1e+40x2o+40x2e+29x3o+29x3e | 53860 paths | 53860 weights)\n",
       "        (fc): FullyConnectedNet[10, 128, 3466]\n",
       "        (tp): TensorProduct(200x0e+67x1o+67x1e+40x2o+40x2e+29x3o+29x3e x 1x0e+1x1o+1x2e+1x3o -> 136x0o+336x0e+579x1o+379x1e+448x2o+648x2e+570x3o+370x3e | 3466 paths | 3466 weights)\n",
       "        (lin2): FullyConnectedTensorProduct(136x0o+336x0e+579x1o+379x1e+448x2o+648x2e+570x3o+370x3e x 1x0e -> 200x0o+472x0e+67x1o+67x1e+40x2o+40x2e+29x3o+29x3e | 321078 paths | 321078 weights)\n",
       "      )\n",
       "      (second): Gate (200x0o+472x0e+67x1o+67x1e+40x2o+40x2e+29x3o+29x3e -> 200x0o+200x0e+67x1o+67x1e+40x2o+40x2e+29x3o+29x3e)\n",
       "    )\n",
       "    (3): Compose(\n",
       "      (first): Convolution(\n",
       "        (sc): FullyConnectedTensorProduct(200x0o+200x0e+67x1o+67x1e+40x2o+40x2e+29x3o+29x3e x 1x0e -> 200x0o+472x0e+67x1o+67x1e+40x2o+40x2e+29x3o+29x3e | 148260 paths | 148260 weights)\n",
       "        (lin1): FullyConnectedTensorProduct(200x0o+200x0e+67x1o+67x1e+40x2o+40x2e+29x3o+29x3e x 1x0e -> 200x0o+200x0e+67x1o+67x1e+40x2o+40x2e+29x3o+29x3e | 93860 paths | 93860 weights)\n",
       "        (fc): FullyConnectedNet[10, 128, 4266]\n",
       "        (tp): TensorProduct(200x0o+200x0e+67x1o+67x1e+40x2o+40x2e+29x3o+29x3e x 1x0e+1x1o+1x2e+1x3o -> 336x0o+336x0e+579x1o+579x1e+648x2o+648x2e+570x3o+570x3e | 4266 paths | 4266 weights)\n",
       "        (lin2): FullyConnectedTensorProduct(336x0o+336x0e+579x1o+579x1e+648x2o+648x2e+570x3o+570x3e x 1x0e -> 200x0o+472x0e+67x1o+67x1e+40x2o+40x2e+29x3o+29x3e | 388278 paths | 388278 weights)\n",
       "      )\n",
       "      (second): Gate (200x0o+472x0e+67x1o+67x1e+40x2o+40x2e+29x3o+29x3e -> 200x0o+200x0e+67x1o+67x1e+40x2o+40x2e+29x3o+29x3e)\n",
       "    )\n",
       "    (4): Compose(\n",
       "      (first): Convolution(\n",
       "        (sc): FullyConnectedTensorProduct(200x0o+200x0e+67x1o+67x1e+40x2o+40x2e+29x3o+29x3e x 1x0e -> 200x0o+472x0e+67x1o+67x1e+40x2o+40x2e+29x3o+29x3e | 148260 paths | 148260 weights)\n",
       "        (lin1): FullyConnectedTensorProduct(200x0o+200x0e+67x1o+67x1e+40x2o+40x2e+29x3o+29x3e x 1x0e -> 200x0o+200x0e+67x1o+67x1e+40x2o+40x2e+29x3o+29x3e | 93860 paths | 93860 weights)\n",
       "        (fc): FullyConnectedNet[10, 128, 4266]\n",
       "        (tp): TensorProduct(200x0o+200x0e+67x1o+67x1e+40x2o+40x2e+29x3o+29x3e x 1x0e+1x1o+1x2e+1x3o -> 336x0o+336x0e+579x1o+579x1e+648x2o+648x2e+570x3o+570x3e | 4266 paths | 4266 weights)\n",
       "        (lin2): FullyConnectedTensorProduct(336x0o+336x0e+579x1o+579x1e+648x2o+648x2e+570x3o+570x3e x 1x0e -> 200x0o+472x0e+67x1o+67x1e+40x2o+40x2e+29x3o+29x3e | 388278 paths | 388278 weights)\n",
       "      )\n",
       "      (second): Gate (200x0o+472x0e+67x1o+67x1e+40x2o+40x2e+29x3o+29x3e -> 200x0o+200x0e+67x1o+67x1e+40x2o+40x2e+29x3o+29x3e)\n",
       "    )\n",
       "    (5): Convolution(\n",
       "      (sc): FullyConnectedTensorProduct(200x0o+200x0e+67x1o+67x1e+40x2o+40x2e+29x3o+29x3e x 1x0e -> 14x0e+5x1o+5x2e+2x3o+1x4e | 3393 paths | 3393 weights)\n",
       "      (lin1): FullyConnectedTensorProduct(200x0o+200x0e+67x1o+67x1e+40x2o+40x2e+29x3o+29x3e x 1x0e -> 200x0o+200x0e+67x1o+67x1e+40x2o+40x2e+29x3o+29x3e | 93860 paths | 93860 weights)\n",
       "      (fc): FullyConnectedNet[10, 128, 2367]\n",
       "      (tp): TensorProduct(200x0o+200x0e+67x1o+67x1e+40x2o+40x2e+29x3o+29x3e x 1x0e+1x1o+1x2e+1x3o -> 336x0e+579x1o+648x2e+570x3o+234x4e | 2367 paths | 2367 weights)\n",
       "      (lin2): FullyConnectedTensorProduct(336x0e+579x1o+648x2e+570x3o+234x4e x 1x0e -> 14x0e+5x1o+5x2e+2x3o+1x4e | 12213 paths | 12213 weights)\n",
       "    )\n",
       "  )\n",
       ")"
      ]
     },
     "execution_count": 3,
     "metadata": {},
     "output_type": "execute_result"
    }
   ],
   "source": [
    "from e3nn.nn.models.gate_points_2101 import Network\n",
    "from e3nn import o3\n",
    "\n",
    "model_kwargs = {\n",
    "    \"irreps_in\": \"5x 0e\", #irreps_in \n",
    "    \"irreps_hidden\": [(mul, l, p) for l, mul in enumerate([200,67,40,29]) for p in [-1, 1]], #irreps_hidden\n",
    "    #\"irreps_hidden\": \"100x0e + 100x0o\",\n",
    "    \"irreps_out\": \"14x0e + 5x1o + 5x2e + 2x3o + 1x4e\", #irreps_out\n",
    "    \"irreps_node_attr\": None, #irreps_node_attr\n",
    "    \"irreps_edge_attr\": o3.Irreps.spherical_harmonics(3), #irreps_edge_attr\n",
    "    \"layers\": 5,\n",
    "    \"max_radius\": 3.5,\n",
    "    \"num_neighbors\": 12.666666,\n",
    "    \"number_of_basis\": 10,\n",
    "    \"radial_layers\": 1,\n",
    "    \"radial_neurons\": 128,\n",
    "    \"num_nodes\": 24,\n",
    "    \"reduce_output\": False,\n",
    "}\n",
    "\n",
    "model = Network(**model_kwargs)\n",
    "\n",
    "optim = torch.optim.Adam(model.parameters(), lr=1e-2)\n",
    "optim.zero_grad()\n",
    "\n",
    "model.to(device)"
   ]
  },
  {
   "cell_type": "code",
   "execution_count": 4,
   "metadata": {},
   "outputs": [
    {
     "data": {
      "text/plain": [
       "<All keys matched successfully>"
      ]
     },
     "execution_count": 4,
     "metadata": {},
     "output_type": "execute_result"
    }
   ],
   "source": [
    "checkpoint = torch.load('trainall-400.pkl')\n",
    "\n",
    "model.load_state_dict(checkpoint)"
   ]
  },
  {
   "cell_type": "code",
   "execution_count": 6,
   "metadata": {},
   "outputs": [
    {
     "name": "stdout",
     "output_type": "stream",
     "text": [
      "small:  1e-05\n",
      "done!\n"
     ]
    }
   ],
   "source": [
    "# generate density on a grid for a random structure\n",
    "from utils import generate_grid, gau2grid_density_kdtree\n",
    "\n",
    "num = 0\n",
    "\n",
    "data = test_loader.dataset[num]\n",
    "\n",
    "# run model on that sample\n",
    "mask = torch.where(data.y == 0, torch.zeros_like(data.y), torch.ones_like(data.y)).detach()\n",
    "y_ml = model(data.to(device))*mask.to(device)\n",
    "\n",
    "x,y,z,vol,x_spacing,y_spacing,z_spacing = generate_grid(data,spacing=0.2,buffer=5.0)\n",
    "\n",
    "Rs = [(14, 0), (5, 1), (5, 2), (2, 3), (1, 4)]\n",
    "\n",
    "target_density, ml_density = gau2grid_density_kdtree(x.flatten(),y.flatten(),z.flatten(),data,y_ml,Rs)\n",
    "print(\"done!\")"
   ]
  },
  {
   "cell_type": "code",
   "execution_count": 7,
   "metadata": {},
   "outputs": [
    {
     "name": "stdout",
     "output_type": "stream",
     "text": [
      "old vol:  0.007901703819858148\n",
      "Read in: vol, x, y, z spacing 0.007901703819858148 0.22112696511404906 0.16338748023623495 0.21870578281463082\n",
      "Predicted: 586.5680240768182\n",
      "Target: 586.3934379497184\n",
      "\n",
      "ML - target eps:  0.6439457943062418\n"
     ]
    }
   ],
   "source": [
    "angstrom2bohr = 1.8897259886\n",
    "print(\"old vol: \", vol)\n",
    "vol = x_spacing * y_spacing * z_spacing\n",
    "print(\"Read in: vol, x, y, z spacing\", vol, x_spacing, y_spacing, z_spacing)\n",
    "\n",
    "num_ele_ml = np.sum(ml_density)*vol*angstrom2bohr**3\n",
    "num_ele_target = np.sum(target_density)*vol*angstrom2bohr**3\n",
    "\n",
    "print(\"Predicted:\", num_ele_ml)\n",
    "print(\"Target:\", num_ele_target)\n",
    "print()\n",
    "\n",
    "ep_ml = 100 * np.sum(np.abs(ml_density.flatten()-target_density.flatten())) / np.sum(target_density.flatten())\n",
    "\n",
    "print(\"ML - target eps: \",ep_ml)\n"
   ]
  },
  {
   "cell_type": "code",
   "execution_count": 8,
   "metadata": {
    "scrolled": true
   },
   "outputs": [
    {
     "name": "stdout",
     "output_type": "stream",
     "text": [
      "(8079,)\n",
      "[[19.45853995 29.85462425 35.72275443]\n",
      " [19.49453981 29.85462425 35.65439386]\n",
      " [19.49453981 29.82478564 35.72275443]\n",
      " ...\n",
      " [38.660705   29.85462425 23.4752306 ]\n",
      " [38.58468079 29.85462425 23.91264216]\n",
      " [38.55121618 30.18139921 23.03781903]]\n"
     ]
    }
   ],
   "source": [
    "## Now compute isosurface with marching cubes\n",
    "\n",
    "from skimage import measure\n",
    "\n",
    "l = round((ml_density.shape[0])**(1/3))\n",
    "t_density = target_density.reshape(l,l,l)\n",
    "m_density = ml_density.reshape(l,l,l)\n",
    "\n",
    "# level sets what the density isosurface is\n",
    "level = 0.01\n",
    "t_verts, t_faces, t_normals, t_values = measure.marching_cubes(t_density, spacing=(x_spacing, y_spacing, z_spacing), level=level, step_size=2)\n",
    "ml_verts, ml_faces, ml_normals, ml_values = measure.marching_cubes(m_density, spacing=(x_spacing, y_spacing, z_spacing), level=level, step_size=2)\n",
    "\n",
    "# now scale to get back to real coordinates\n",
    "xyz_min = np.array([x[0,0,0],y[0,0,0],z[0,0,0]])\n",
    "t_verts = t_verts + xyz_min\n",
    "ml_verts = ml_verts + xyz_min\n",
    "print(ml_verts[:,0].shape)\n",
    "\n",
    "print(ml_verts)\n"
   ]
  },
  {
   "cell_type": "code",
   "execution_count": 10,
   "metadata": {},
   "outputs": [],
   "source": [
    "# compute the electrostatic potentials\n",
    "\n",
    "from utils import compute_amber_potential\n",
    "from utils import compute_potential_field_ml\n",
    "from utils import compute_potential_field_target\n",
    "m_isopot, m_isofield = compute_potential_field_ml(ml_verts[:,0].flatten(),ml_verts[:,1].flatten(),ml_verts[:,2].flatten(),data,y_ml,Rs, isoOnlyFlag=0)"
   ]
  },
  {
   "cell_type": "code",
   "execution_count": 11,
   "metadata": {},
   "outputs": [],
   "source": [
    "# plotting: get atoms\n",
    "\n",
    "h_x = []\n",
    "h_y = []\n",
    "h_z = []\n",
    "c_x = []\n",
    "c_y = []\n",
    "c_z = []\n",
    "n_x = []\n",
    "n_y = []\n",
    "n_z = []\n",
    "o_x = []\n",
    "o_y = []\n",
    "o_z = []\n",
    "p_x = []\n",
    "p_y = []\n",
    "p_z = []\n",
    "\n",
    "for i in range(len(data.z)):\n",
    "    if(data.z[i])==1:\n",
    "        h_x.append(data.pos_orig[i][0].cpu().numpy())\n",
    "        h_y.append(data.pos_orig[i][1].cpu().numpy())\n",
    "        h_z.append(data.pos_orig[i][2].cpu().numpy())\n",
    "    elif(data.z[i])==6:\n",
    "        c_x.append(data.pos_orig[i][0].cpu().numpy())\n",
    "        c_y.append(data.pos_orig[i][1].cpu().numpy())\n",
    "        c_z.append(data.pos_orig[i][2].cpu().numpy())\n",
    "    elif(data.z[i])==7:\n",
    "        n_x.append(data.pos_orig[i][0].cpu().numpy())\n",
    "        n_y.append(data.pos_orig[i][1].cpu().numpy())\n",
    "        n_z.append(data.pos_orig[i][2].cpu().numpy())\n",
    "    elif(data.z[i])==8:\n",
    "        o_x.append(data.pos_orig[i][0].cpu().numpy())\n",
    "        o_y.append(data.pos_orig[i][1].cpu().numpy())\n",
    "        o_z.append(data.pos_orig[i][2].cpu().numpy())\n",
    "    elif(data.z[i])==15:\n",
    "        p_x.append(data.pos_orig[i][0].cpu().numpy())\n",
    "        p_y.append(data.pos_orig[i][1].cpu().numpy())\n",
    "        p_z.append(data.pos_orig[i][2].cpu().numpy())\n",
    "    else:\n",
    "        print(\"Atom type not supported!\")"
   ]
  },
  {
   "cell_type": "code",
   "execution_count": 12,
   "metadata": {},
   "outputs": [],
   "source": [
    "import plotly\n",
    "from plotly.subplots import make_subplots\n",
    "import plotly.graph_objects as go\n",
    "\n",
    "# FigureWidget apparently works faster with numpy arrays\n",
    "fig = go.FigureWidget()\n",
    "\n",
    "traces = []\n",
    "for verts, faces, intense, name in zip([ml_verts], [ml_faces], [m_isopot], ['Density']):\n",
    "    traces.append(go.Mesh3d(\n",
    "        x=verts[:,0].flatten(),\n",
    "        y=verts[:,1].flatten(),\n",
    "        z=verts[:,2].flatten(),\n",
    "        i=faces[:,0].flatten(),\n",
    "        j=faces[:,1].flatten(),\n",
    "        k=faces[:,2].flatten(),\n",
    "        intensity=intense.flatten(),\n",
    "        colorscale=\"RdBu\",\n",
    "        colorbar=dict(tickfont=dict(size=20, color='black', family='Arial')),\n",
    "        opacity=0.8,\n",
    "        name=name,\n",
    "    ))\n",
    "\n",
    "fig.add_trace(traces[0])\n",
    "\n",
    "h_geom = go.Scatter3d(x=h_x,y=h_y,z=h_z,mode='markers',marker=dict(size=4.6,color='gray',opacity=1.0), showlegend=False)\n",
    "fig.add_trace(h_geom)\n",
    "c_geom = go.Scatter3d(x=c_x,y=c_y,z=c_z,mode='markers',marker=dict(size=7.7,color='black',opacity=1.0), showlegend=False)\n",
    "fig.add_trace(c_geom)\n",
    "n_geom = go.Scatter3d(x=n_x,y=n_y,z=n_z,mode='markers',marker=dict(size=7.4,color='blue',opacity=1.0), showlegend=False)\n",
    "fig.add_trace(n_geom)\n",
    "o_geom = go.Scatter3d(x=o_x,y=o_y,z=o_z,mode='markers',marker=dict(size=7.4,color='red',opacity=1.0), showlegend=False)\n",
    "fig.add_trace(o_geom)\n",
    "p_geom = go.Scatter3d(x=p_x,y=p_y,z=p_z,mode='markers',marker=dict(size=11,color='orange',opacity=1.0), showlegend=False)\n",
    "fig.add_trace(p_geom)\n",
    "\n",
    "fig.write_html(\"./2mertest0-pot.html\")\n",
    "\n",
    "#fig.show()"
   ]
  },
  {
   "cell_type": "code",
   "execution_count": null,
   "metadata": {},
   "outputs": [],
   "source": []
  }
 ],
 "metadata": {
  "kernelspec": {
   "display_name": "e3nn_psi4",
   "language": "python",
   "name": "e3nn_psi4"
  },
  "language_info": {
   "codemirror_mode": {
    "name": "ipython",
    "version": 3
   },
   "file_extension": ".py",
   "mimetype": "text/x-python",
   "name": "python",
   "nbconvert_exporter": "python",
   "pygments_lexer": "ipython3",
   "version": "3.7.10"
  }
 },
 "nbformat": 4,
 "nbformat_minor": 5
}
