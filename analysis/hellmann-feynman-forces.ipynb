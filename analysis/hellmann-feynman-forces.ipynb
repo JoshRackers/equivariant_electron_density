{
 "cells": [
  {
   "cell_type": "markdown",
   "id": "0af871e5-b535-41aa-b947-453e60c45267",
   "metadata": {},
   "source": [
    "# Calculating Hellmann-Feynman Forces\n",
    "\n",
    "This code shows how to calculate Hellmann-Feynman forces from an ML electron density. This requires a custom-built version of psi4 available at https://github.com/JoshRackers/psi4. It will also show how to compute long-range versions of the Hellmann-Feynman force."
   ]
  },
  {
   "cell_type": "code",
   "execution_count": null,
   "id": "0d0f9c17-c329-45ba-a1f4-a4a52ea292dd",
   "metadata": {},
   "outputs": [],
   "source": [
    "import sys\n",
    "if \"/home/jracker/codes/psi4/build/stage/lib\" not in sys.path:\n",
    "    sys.path.append(\"/home/jracker/codes/psi4/build/stage/lib\")\n",
    "    #print(sys.path)\n",
    "import psi4"
   ]
  },
  {
   "cell_type": "code",
   "execution_count": null,
   "id": "signed-spring",
   "metadata": {},
   "outputs": [],
   "source": [
    "%load_ext autoreload\n",
    "%autoreload 2\n",
    "\n",
    "import sys\n",
    "import os\n",
    "import math\n",
    "import numpy as np\n",
    "\n",
    "import torch\n",
    "import torch_geometric\n",
    "\n",
    "sys.path.append(os.path.dirname(os.path.abspath('')))\n",
    "from utils import get_iso_permuted_dataset\n",
    "from utils import flatten_list\n",
    "from utils import compute_potential_field\n",
    "\n",
    "device = torch.device(\"cuda\" if torch.cuda.is_available() else \"cpu\")\n",
    "#device = torch.device(\"cpu\")\n",
    "print (device)\n",
    "\n",
    "# conversion from Hartrees to kcal/mol\n",
    "ha2kcalmol = 627.5094740631"
   ]
  },
  {
   "cell_type": "code",
   "execution_count": null,
   "id": "028e350d-4b7a-40e7-a5f1-796ab6e4610d",
   "metadata": {},
   "outputs": [],
   "source": [
    "# first, get dataset\n",
    "hhh = \"../data/h_s_only_def2-universal-jfit-decontract_density.out\"\n",
    "ooo = \"../data/o_s_only_def2-universal-jfit-decontract_density.out\"\n",
    "\n",
    "fours = \"../tests/test_data_generation/testdata_w4.pkl\"\n",
    "w04_dataset = get_iso_permuted_dataset(fours,o_iso=ooo,h_iso=hhh)\n",
    "\n",
    "data_loader = torch_geometric.data.DataLoader(w04_dataset[:], batch_size=1, shuffle=False)"
   ]
  },
  {
   "cell_type": "code",
   "execution_count": null,
   "id": "2a56702a-a0ae-4757-ac3d-02d9992b77b5",
   "metadata": {},
   "outputs": [],
   "source": [
    "# now get model\n",
    "from e3nn.nn.models.gate_points_2101 import Network\n",
    "from e3nn import o3\n",
    "\n",
    "model_kwargs = {\n",
    "        \"irreps_in\": \"2x 0e\", #irreps_in \n",
    "        \"irreps_hidden\": [(mul, (l, p)) for l, mul in enumerate([125,40,25,15]) for p in [-1, 1]], #irreps_hidden\n",
    "        #\"irreps_hidden\": \"100x0e + 100x0o\",\n",
    "        \"irreps_out\": \"12x0e + 5x1o + 4x2e + 2x3o + 1x4e\", #irreps_out\n",
    "        \"irreps_node_attr\": None, #irreps_node_attr\n",
    "        \"irreps_edge_attr\": o3.Irreps.spherical_harmonics(3), #irreps_edge_attr\n",
    "        \"layers\": 3,\n",
    "        \"max_radius\": 3.5,\n",
    "        \"number_of_basis\": 10,\n",
    "        \"radial_layers\": 1,\n",
    "        \"radial_neurons\": 128,\n",
    "        \"num_neighbors\": 12.2298,\n",
    "        \"num_nodes\": 24,\n",
    "        \"reduce_output\": False,\n",
    "    }\n",
    "\n",
    "model = Network(**model_kwargs)\n",
    "model.to(device)\n",
    "\n",
    "model.load_state_dict(torch.load('pretrained_model.pt'))"
   ]
  },
  {
   "cell_type": "code",
   "execution_count": null,
   "id": "4592fa97-3eb9-47e0-8e87-1b6c29610e73",
   "metadata": {},
   "outputs": [],
   "source": [
    "# now compute hellmann-feynman forces\n",
    "\n",
    "# get first structure\n",
    "data = data_loader.dataset[0]\n",
    "\n",
    "# inference on model\n",
    "mask = torch.where(data.y == 0, torch.zeros_like(data.y), torch.ones_like(data.y)).detach()\n",
    "y_ml = model(data.to(device))*mask.to(device)\n",
    "\n",
    "# get atomic positions\n",
    "x_atoms = data.pos_orig[:,0].cpu().detach().flatten()\n",
    "y_atoms = data.pos_orig[:,1].cpu().detach().flatten()\n",
    "z_atoms = data.pos_orig[:,2].cpu().detach().flatten()\n",
    "Rs = [(12, 0), (5, 1), (4, 2), (2, 3), (1, 4)]\n",
    "\n",
    "# evaluate full electrostatic field at atomic positions\n",
    "t_pot, t_field, m_pot, m_field = compute_potential_field(x_atoms,y_atoms,z_atoms,data,y_ml.detach(),Rs,intermolecular=False)\n",
    "\n",
    "# now compute forces\n",
    "charges = data.z.cpu().detach().numpy()\n",
    "target_forces = t_field*charges\n",
    "ml_forces = m_field*charges\n",
    "\n",
    "print(\"Force error (Ha/bohr)\")\n",
    "print(ml_forces-target_forces)"
   ]
  },
  {
   "cell_type": "code",
   "execution_count": null,
   "id": "a5836d15-19bf-462f-b0c5-f44e057bfd3c",
   "metadata": {},
   "outputs": [],
   "source": [
    "# evaluate long-range electrostatic field at atomic positions\n",
    "# exclude contributions from <7 Å interactions\n",
    "# NOTE: for small clusters like this, this excludes all interactions\n",
    "#       but for larger clusters, this is significant\n",
    "lr_t_pot, lr_t_field, lr_m_pot, lr_m_field = compute_potential_field(x_atoms,y_atoms,z_atoms,data,y_ml.detach(),Rs,intermolecular=True,rad=13.2281)\n",
    "\n",
    "# now compute forces\n",
    "lr_target_forces = lr_t_field*charges\n",
    "lr_ml_forces = lr_m_field*charges\n",
    "\n",
    "print(\"Force error (Ha/bohr)\")\n",
    "print(lr_ml_forces-lr_target_forces)"
   ]
  },
  {
   "cell_type": "code",
   "execution_count": null,
   "id": "80b18b73-8657-46c6-9851-93dc1ecb89a5",
   "metadata": {},
   "outputs": [],
   "source": []
  },
  {
   "cell_type": "code",
   "execution_count": null,
   "id": "f13bc32e-81cc-4f37-a97a-39493271637b",
   "metadata": {},
   "outputs": [],
   "source": []
  },
  {
   "cell_type": "code",
   "execution_count": null,
   "id": "eb43bc10-abdb-404d-b7a6-44b48a178920",
   "metadata": {},
   "outputs": [],
   "source": []
  }
 ],
 "metadata": {
  "kernelspec": {
   "display_name": "e3nn_psi4_sept",
   "language": "python",
   "name": "e3nn_psi4_sept"
  },
  "language_info": {
   "codemirror_mode": {
    "name": "ipython",
    "version": 3
   },
   "file_extension": ".py",
   "mimetype": "text/x-python",
   "name": "python",
   "nbconvert_exporter": "python",
   "pygments_lexer": "ipython3",
   "version": "3.7.9"
  }
 },
 "nbformat": 4,
 "nbformat_minor": 5
}
